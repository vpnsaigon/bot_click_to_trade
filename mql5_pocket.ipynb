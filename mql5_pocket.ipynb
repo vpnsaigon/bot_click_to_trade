{
 "cells": [
  {
   "cell_type": "markdown",
   "metadata": {},
   "source": [
    "# Lấy thông tin của tài khoản"
   ]
  },
  {
   "cell_type": "markdown",
   "metadata": {},
   "source": [
    "- Đoc tại đây: \n",
    "https://www.mql5.com/en/docs/account\n",
    "- Xác định trước giá trị muốn lấy về thụôc kiểu dữ liệu nào?\n",
    "    - Double\n",
    "    - Integer\n",
    "    - String\n",
    "- Ví dụ: Muốn lấy Balance của tk, nó là giá trị kiểu Double, thì ta sử dụng hàm `AccountInfoDouble()` với tham số truyền ACCOUNT_BALANCE thuộc ENUM_ACCOUNT_INFO_DOUBLE.\n",
    "    - Đọc thêm tại đây: \n",
    "    https://www.mql5.com/en/docs/account/accountinfodouble\n",
    "    \n",
    "- Muốn lấy giá trị số của tk, nó là gía trị kiểu Integerm thì ta sử dụng hàm `AccountInfoInteger` với tham số truyền ACCOUNT_LOGIN thuộc ENUM_ACCOUNT_INFO_INTEGER\n",
    "    - Đọc thêm tại đây: \n",
    "    https://www.mql5.com/en/docs/account/accountinfointeger\n",
    "    \n",
    "- Muốn lấy giá trị tên tk, nó là giá trị kiểu String, thì ta sử dụng hàm `AccountInfoString` với tham số truyền ACCOUNT_NAME thuộc ENUM_ACCOUNT_INFO_STRING\n",
    "    - Đọc thêm tại đây: \n",
    "    https://www.mql5.com/en/docs/account/accountinfostring"
   ]
  },
  {
   "cell_type": "code",
   "execution_count": null,
   "metadata": {
    "scrolled": false
   },
   "outputs": [],
   "source": [
    "double balance = AccountInfoDouble(ACCOUNT_BALANCE);\n",
    "\n",
    "int account_number = AccountInfoInteger(ACCOUNT_LOGIN);\n",
    "\n",
    "string account_name = AccountInfoString(ACCOUNT_NAME);"
   ]
  },
  {
   "cell_type": "markdown",
   "metadata": {},
   "source": [
    "# Các hàm xử lý về thời gian"
   ]
  },
  {
   "cell_type": "markdown",
   "metadata": {},
   "source": [
    "- Đọc tại đây: \n",
    "https://www.mql5.com/en/docs/dateandtime\n",
    "\n",
    "- Kiểu dữ liệu trả về là `datetime`\n",
    "    - Đọc tại đây: \n",
    "    https://www.mql5.com/en/docs/basis/types/integer/datetime\n",
    "\n",
    "- Kiểu dữ liệu trả về là `MqlDateTime`\n",
    "    - Đọc tại đây: \n",
    "    https://www.mql5.com/en/docs/constants/structures/mqldatetime\n",
    "    "
   ]
  },
  {
   "cell_type": "code",
   "execution_count": null,
   "metadata": {},
   "outputs": [],
   "source": [
    "datetime current_time = TimeCurrent();\n",
    "\n",
    "MqlDateTime str_time = TimeCurrent();\n",
    "int year = str_time.year;\n",
    "int hour = str_time.hour;"
   ]
  },
  {
   "cell_type": "markdown",
   "metadata": {},
   "source": [
    "# Lấy thông tin liên quan đến thị trường"
   ]
  },
  {
   "cell_type": "markdown",
   "metadata": {},
   "source": [
    "- Đọc tại đây: \n",
    "https://www.mql5.com/en/docs/marketinformation\n",
    "\n",
    "- Lấy tên cặp tiền: `_Symbol` hoặc `Symbol()`\n",
    "- Lấy point của cặp tiền: `_Point`\n",
    "- Lấy số chữ số thập phân: `_Digits`\n",
    "\n",
    "- Xác định thông tin định lấy từ cặp tiền thuộc kiểu dữ liệu nào? \n",
    "    - Double? thì dùng `SymbolInfoDouble()`, đọc tại đây: \n",
    "    https://www.mql5.com/en/docs/marketinformation/symbolinfodouble\n",
    "    - Integer? thì dùng `SymbolInfoInteger()`, đọc tại đây: \n",
    "    https://www.mql5.com/en/docs/marketinformation/symbolinfointeger\n",
    "    - String? thì dùng `SymbolInfoString`, đọc tại đây: \n",
    "    https://www.mql5.com/en/docs/marketinformation/symbolinfostring\n",
    "    - tham số truyền là các ENUM tương ứng"
   ]
  },
  {
   "cell_type": "code",
   "execution_count": null,
   "metadata": {},
   "outputs": [],
   "source": [
    "string symbol_1 = _Symbol;\n",
    "string symbol_2 = Symbol();\n",
    "\n",
    "# Ví dụ: lấy giá ask và bid. phải dùng cách này, khác với mql4\n",
    "double ask = SymbolInfoDouble(_Symbol, SYMBOL_ASK);\n",
    "double bid = SymbolInfoDouble(_Symbol, SYMBOL_BID);\n",
    "\n",
    "int spread = SymbolInfoInteger(_Symbol, SYMBOL_SPREAD);\n",
    "\n",
    "string exchange = SymbolInfoString(_Symbol, SYMBOL_EXCHANGE);"
   ]
  },
  {
   "cell_type": "markdown",
   "metadata": {},
   "source": [
    "# Các indicator có sẵn\n"
   ]
  },
  {
   "cell_type": "markdown",
   "metadata": {},
   "source": [
    "- Danh sách: \n",
    "https://www.mql5.com/en/docs/indicators\n",
    "\n",
    "- Lưu ý khi dùng các hàm indicator có sẵn là nó trả về **handle** của indicator đó, chứ ko phải chuỗi giá trị, khác với MQL4\n",
    "- Do đó, ta phải dùng thêm phương thức `CopyBuffer()` để lấy buffer trong handle indicator, buffer là giá trị tương ứng\n",
    "\n",
    "- Ví dụ về lấy giá trị của 10 giá trị EMA(20) gần nhất:\n",
    "    - Ta bắt đầu so sánh giá trị tương ứng trong mảng EMA[] theo index, chú ý **index bị đảo ngược** so với chuỗi Coppy\n",
    "    - Đọc ở đây: \n",
    "    https://www.mql5.com/en/docs/series/copybuffer"
   ]
  },
  {
   "attachments": {
    "image.png": {
     "image/png": "[encoded data removed]"
    }
   },
   "cell_type": "markdown",
   "metadata": {},
   "source": [
    "- Hình giải thích index trong CoppyBuffer() từ handle ra Array giá trị:\n",
    "\n",
    "![image.png](attachment:image.png)"
   ]
  },
  {
   "cell_type": "code",
   "execution_count": null,
   "metadata": {},
   "outputs": [],
   "source": [
    "int value_ema = 20;\n",
    "int ema_handle = iMA(_Symbol, PERIOD_H1, value_ema, 0, MODE_EMA, PRICE_CLOSE);\n",
    "int size = 10;\n",
    "\n",
    "// mảng này sẽ lưu giá trị copy từ buffer ra\n",
    "double EMA[];\n",
    "\n",
    "// coppy gía trị từ handle ra mảng EMA[], coppy từ vị trí thứ 0, lấy size giá trị ngược lại\n",
    "CopyBuffer(ema_handle, 0, 0, size, EMA);\n",
    "\n",
    "// Ta bắt đầu so sánh giá trị tương ứng trong mảng EMA[] theo index, chú ý index bị đảo ngược so với chuỗi Coppy\n",
    "// Ví dụ múôn lấy EMA hiện tại là: \n",
    "EMA[size - 1]\n",
    "\n",
    "// Giá trị EMA liền trước so với hiện tại là size - 2; (ở MQL4, hiện tại là index = 0, liền trước index = 1)\n",
    "// thì ở MQL5: index = 0 tương ứng index = size - 1\n",
    "\n",
    "// So sánh 2 giá trị EMA để tìm giao cắt"
   ]
  },
  {
   "cell_type": "markdown",
   "metadata": {},
   "source": [
    "# Chuỗi thời gian và indicator\n"
   ]
  },
  {
   "cell_type": "markdown",
   "metadata": {},
   "source": [
    "- Đọc thêm các hàm xử lý chuỗi thời gian và indicator ở đây: \n",
    "\n",
    "https://www.mql5.com/en/docs/series\n",
    "(Tương đối khác với **MQL4**)\n",
    "\n",
    "- Các hàm thường dùng:\n",
    "    - `iClose`: https://www.mql5.com/en/docs/series/iclose\n",
    "    - `iHighest`: https://www.mql5.com/en/docs/series/ihighest\n",
    "    - `iLowest`: https://www.mql5.com/en/docs/series/ilowest\n",
    "    - `iHigh`: https://www.mql5.com/en/docs/series/ihigh\n",
    "    - `iTime`: https://www.mql5.com/en/docs/series/itime\n",
    "    - `CopyBuffer`: https://www.mql5.com/en/docs/series/copybuffer"
   ]
  },
  {
   "cell_type": "code",
   "execution_count": null,
   "metadata": {},
   "outputs": [],
   "source": [
    "// Ví dụ dùng hàm `iTime()` để xác nhận vừa sang nến mới\n",
    "\n",
    "datetime tcandle = iTime(_Symbol, PERIOD_H1, 0);\n",
    "\n",
    "bool is_new_candle()\n",
    "{\n",
    "    if (tcandle == iTime(_Symbol, PERIOD_H1, 1))\n",
    "    {\n",
    "        tcandle = iTime(_Symbol, PERIOD_H1, 0);\n",
    "        return true;        \n",
    "    }\n",
    "    return false;\n",
    "}\n"
   ]
  },
  {
   "cell_type": "markdown",
   "metadata": {},
   "source": [
    "# Xử lý vào - ra lệnh trong MQL5 (khác MQL4)"
   ]
  },
  {
   "cell_type": "markdown",
   "metadata": {},
   "source": [
    "- Đọc ở đây: \n",
    "https://www.mql5.com/en/docs/trading\n",
    "\n",
    "- Lệnh trong MQl5 chia làm 3 loại:\n",
    "    - **Deal**: trước khi vào lênh, deal được gửi tới sàn và đuọc sàn chấp nhận xử lý hay ko?\n",
    "    - **Order**: deal đã được xử lý sẽ thành Order\n",
    "    - **Position**: những lệnh đang trong chạy trên thị trường\n",
    "\n",
    "- Tương ứng với mỗi loại có một Class riêng để xử lý:\n",
    "- Liên quan đên vào - ra lệnh, sử dụng **class CTrade**: \n",
    "https://www.mql5.com/en/docs/standardlibrary/tradeclasses/ctrade\n",
    "\n",
    "- Liên quan đến vị thế lệnh đang chạy, sử dụng **class CPositionInfo**: \n",
    "https://www.mql5.com/en/docs/standardlibrary/tradeclasses/cpositioninfo\n",
    "\n",
    "- Một số phương thức hay sử dụng:\n",
    "    - **Buy()**: \n",
    "    https://www.mql5.com/en/docs/standardlibrary/tradeclasses/ctrade/ctradebuy\n",
    "    - **Sell**:\n",
    "    https://www.mql5.com/en/docs/standardlibrary/tradeclasses/ctrade/ctradesell\n",
    "    - **PositionModify()**: \n",
    "    https://www.mql5.com/en/docs/standardlibrary/tradeclasses/ctrade/ctradepositionmodify\n",
    "    - **PositionClose()**: \n",
    "    https://www.mql5.com/en/docs/standardlibrary/tradeclasses/ctrade/ctradepositionclose"
   ]
  },
  {
   "cell_type": "code",
   "execution_count": null,
   "metadata": {},
   "outputs": [],
   "source": [
    "// Ví dụ, vào 1 lệnh BUY, tương tự cho SELL\n",
    "\n",
    "#include <Trade\\Trade.mqh>\n",
    "CTrade trade;\n",
    "\n",
    "double volume = 0.01;\n",
    "bool b = trade.Buy(volume);"
   ]
  },
  {
   "cell_type": "code",
   "execution_count": null,
   "metadata": {},
   "outputs": [],
   "source": [
    "// Ví dụ về chỉnh sửa lệnh\n",
    "\n",
    "bool m = trade.PositionModify(_Symbol, sl, tp);"
   ]
  },
  {
   "cell_type": "code",
   "execution_count": null,
   "metadata": {},
   "outputs": [],
   "source": [
    "// Ví dụ về hàm close_all lệnh\n",
    "\n",
    "void close_all()\n",
    "{\n",
    "   int totals = PositionsTotal();\n",
    "   for(int i=0; i<totals; i++)\n",
    "   {  \n",
    "      if (PositionGetSymbol(i) == _Symbol)\n",
    "      {\n",
    "         ulong ticket = PositionGetInteger(POSITION_TICKET);\n",
    "         int k = trade.PositionClose(ticket);\n",
    "      }\n",
    "   }\n"
   ]
  },
  {
   "cell_type": "markdown",
   "metadata": {},
   "source": [
    "# Xử lý các Object vẽ trong chart\n"
   ]
  },
  {
   "cell_type": "markdown",
   "metadata": {},
   "source": [
    "- Đọc ở đây: https://www.mql5.com/en/docs/objects\n",
    "- Hầu hết tương tự với MQL4\n",
    "- Thường chỉ sử dụng các hàm sau: \n",
    "    - `ObjectCreate()`: https://www.mql5.com/en/docs/objects/objectcreate\n",
    "    - `ObjectSetInteger()`: https://www.mql5.com/en/docs/objects/objectsetinteger\n",
    "    - `ObjectDelete()`: https://www.mql5.com/en/docs/objects/objectdelete\n",
    "\n",
    "- Các loại Object: https://www.mql5.com/en/docs/constants/objectconstants/enum_object"
   ]
  },
  {
   "cell_type": "code",
   "execution_count": null,
   "metadata": {},
   "outputs": [],
   "source": [
    "// Ví dụ về tạo một Button Object\n",
    "\n",
    "// create button\n",
    "name_button = \"_close_\";\n",
    "corner = CORNER_RIGHT_UPPER;\n",
    "\n",
    "x = 220; y = 180;\n",
    "width = 100; height = 50;\n",
    "\n",
    "text = \"CLOSE\";\n",
    "font_size = 16;\n",
    "clr = clrGray;\n",
    "\n",
    "ObjectDelete(0, name_button);\n",
    "ObjectCreate(0, name_button, OBJ_BUTTON, 0, 0, 0);\n",
    "ObjectSetInteger(0, name_button, OBJPROP_CORNER, corner);\n",
    "ObjectSetInteger(0, name_button, OBJPROP_XDISTANCE, x);\n",
    "ObjectSetInteger(0, name_button, OBJPROP_YDISTANCE, y);\n",
    "ObjectSetInteger(0, name_button, OBJPROP_XSIZE, width);\n",
    "ObjectSetInteger(0, name_button, OBJPROP_YSIZE, height);\n",
    "ObjectSetString(0, name_button, OBJPROP_TEXT, text);\n",
    "ObjectSetInteger(0, name_button, OBJPROP_FONTSIZE, font_size);\n",
    "ObjectSetInteger(0, name_button, OBJPROP_COLOR, clr);\n",
    "ObjectSetInteger(0, name_button, OBJPROP_STATE, false);\n",
    "ObjectSetInteger(0, name_button, OBJPROP_ZORDER, 0);"
   ]
  },
  {
   "cell_type": "markdown",
   "metadata": {},
   "source": [
    "# Các kiểu dữ liệu dạng Struct được định sẵn trong MQL5"
   ]
  },
  {
   "cell_type": "markdown",
   "metadata": {},
   "source": [
    "- Danh sách: https://www.mql5.com/en/docs/constants/structures\n",
    "\n",
    "- Thường dùng:\n",
    "    - `MqlDateTime`: Để lấy giờ phút giây, ngày tháng năm cụ thể\n",
    "    https://www.mql5.com/en/docs/constants/structures/mqldatetime\n",
    "    - `MqlTradeRequest`: Dạng đầu vào để vào 1 lệnh\n",
    "    https://www.mql5.com/en/docs/constants/structures/mqltraderequest\n",
    "    - `MqlTradeResult`: Kết quả trả về sau khi vừa vào 1 lệnh\n",
    "    https://www.mql5.com/en/docs/constants/structures/mqltraderesult"
   ]
  },
  {
   "cell_type": "code",
   "execution_count": null,
   "metadata": {},
   "outputs": [],
   "source": [
    "// Cách vào 1 lệnh Buy trong mql5\n",
    "\n",
    "MqlTradeRequest request = {};\n",
    "MqlTradeResult  result  = {};\n",
    "\n",
    "request.action   = TRADE_ACTION_DEAL;                     // type of trade operation\n",
    "request.symbol   = _Symbol;                               // symbol\n",
    "request.volume   = 0.01;                                   // volume of 0.1 lot\n",
    "request.type     = ORDER_TYPE_BUY;                        // order type\n",
    "request.price    = SymbolInfoDouble(_Symbol, SYMBOL_ASK); // price for opening\n",
    "request.deviation= 5;                                     // allowed deviation from the price\n",
    "request.magic    = EXPERT_MAGIC;                          // MagicNumber of the order\n",
    "\n",
    "// Thực thi lệnh\n",
    "bool b = OrderSend(request, result);\n",
    "\n",
    "// Lấy ticket của lệnh vừa vào\n",
    "ulong ticket = result.order;"
   ]
  },
  {
   "cell_type": "markdown",
   "metadata": {},
   "source": [
    "- Các kiểu hành động liên quan tới lệnh trong mql5:\n",
    "https://www.mql5.com/en/docs/constants/tradingconstants/enum_trade_request_actions#trade_action_modify\n",
    "\n",
    "- Ví dụ Modify dùng `request.action = TRADE_ACTION_MODIFY;`\n",
    "\n",
    "- Lệnh Pending dùng: `request.action = TRADE_ACTION_PENDING;`"
   ]
  },
  {
   "cell_type": "code",
   "execution_count": null,
   "metadata": {},
   "outputs": [],
   "source": [
    "request.action = TRADE_ACTION_MODIFY;\n",
    "\n",
    "request.action = TRADE_ACTION_PENDING; "
   ]
  },
  {
   "cell_type": "markdown",
   "metadata": {},
   "source": [
    "- Enum kiểu lệnh: https://www.mql5.com/en/docs/constants/tradingconstants/orderproperties#enum_order_type"
   ]
  },
  {
   "cell_type": "code",
   "execution_count": null,
   "metadata": {},
   "outputs": [],
   "source": [
    "ORDER_TYPE_BUY // Market Buy order\n",
    "\n",
    "ORDER_TYPE_SELL // Market Sell order\n",
    "\n",
    "ORDER_TYPE_BUY_LIMIT // Buy Limit pending order\n",
    " \n",
    "ORDER_TYPE_SELL_LIMIT // Sell Limit pending order\n",
    "\n",
    "ORDER_TYPE_BUY_STOP // Buy Stop pending order\n",
    "\n",
    "ORDER_TYPE_SELL_STOP // Sell Stop pending order"
   ]
  },
  {
   "cell_type": "markdown",
   "metadata": {},
   "source": [
    "# Xử lý với Files"
   ]
  },
  {
   "cell_type": "markdown",
   "metadata": {},
   "source": [
    "- Nhìn chung tương tự mới mql4:\n",
    "- Đọc ở đây: https://www.mql5.com/en/docs/files"
   ]
  },
  {
   "cell_type": "markdown",
   "metadata": {},
   "source": [
    "# Các xử lý với mạng bên ngoài"
   ]
  },
  {
   "cell_type": "markdown",
   "metadata": {},
   "source": [
    "- Đọc tại đây: https://www.mql5.com/en/docs/network\n",
    "\n",
    "- Dùng `WebRequest` để gửi message qua **Telegram**: \n",
    "    - Đọc: https://www.mql5.com/en/docs/network/webrequest\n",
    "\n",
    "- Dùng `SendNotification` để gửi message qua MT5 điện thoại:\n",
    "    - Đọc: https://www.mql5.com/en/docs/network/sendnotification"
   ]
  },
  {
   "cell_type": "code",
   "execution_count": null,
   "metadata": {},
   "outputs": [],
   "source": [
    "void OnTick()\n",
    "{\n",
    "   string cookie = NULL, headers;\n",
    "   char   post[], result[];\n",
    "   \n",
    "   string TOKEN = \"\";\n",
    "   string CHAT_ID = \"\";\n",
    "   \n",
    "   string text = \">>> from bot\";\n",
    "   string url = StringFormat(\"https://api.telegram.org/bot%s/sendMessage?chat_id=%s&text=%s\",TOKEN,CHAT_ID,text);\n",
    "\n",
    "   ResetLastError();\n",
    "   int res = WebRequest(\"POST\",url,cookie,NULL,500,post,0,result,headers);\n",
    "   if(res) {\n",
    "      PrintFormat(\">>> done !\");\n",
    "   }\n",
    "   \n",
    "   Sleep(10000);\n",
    "}"
   ]
  },
  {
   "cell_type": "code",
   "execution_count": null,
   "metadata": {},
   "outputs": [],
   "source": [
    "SendNotification(\">>> from bot\");"
   ]
  },
  {
   "cell_type": "markdown",
   "metadata": {},
   "source": [
    "# Tất cả các hàm trong MQL5"
   ]
  },
  {
   "cell_type": "markdown",
   "metadata": {},
   "source": [
    "- Đọc tại đây: https://www.mql5.com/en/docs/function_indices"
   ]
  },
  {
   "cell_type": "markdown",
   "metadata": {},
   "source": [
    "# Tất cả các hằng và ENUM trong MQL5\n"
   ]
  },
  {
   "cell_type": "markdown",
   "metadata": {},
   "source": [
    "- Đọc tại đây: https://www.mql5.com/en/docs/constant_indices"
   ]
  }
 ],
 "metadata": {
  "kernelspec": {
   "display_name": "Python 3 (ipykernel)",
   "language": "python",
   "name": "python3"
  },
  "language_info": {
   "codemirror_mode": {
    "name": "ipython",
    "version": 3
   },
   "file_extension": ".py",
   "mimetype": "text/x-python",
   "name": "python",
   "nbconvert_exporter": "python",
   "pygments_lexer": "ipython3",
   "version": "3.10.12"
  }
 },
 "nbformat": 4,
 "nbformat_minor": 2
}
